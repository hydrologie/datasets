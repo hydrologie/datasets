{
 "cells": [
  {
   "cell_type": "markdown",
   "metadata": {},
   "source": [
    "# ERA5\n",
    "\n",
    "\n",
    "## Introduction\n",
    "\n",
    "Exemple de calcul distribué sur le dataset ERA5 avec le stack de Pangeo"
   ]
  },
  {
   "cell_type": "markdown",
   "metadata": {},
   "source": [
    "## Environnement"
   ]
  },
  {
   "cell_type": "code",
   "execution_count": 32,
   "metadata": {},
   "outputs": [],
   "source": [
    "# Display output of plots directly in Notebook\n",
    "%matplotlib inline\n",
    "import warnings\n",
    "warnings.filterwarnings(\"ignore\")\n",
    "\n",
    "import intake\n",
    "import numpy as np\n",
    "import pandas as pd\n",
    "import xarray as xr\n",
    "import hvplot.xarray\n",
    "import s3fs\n",
    "import pandas as pd\n",
    "import geopandas as gpd\n",
    "import hydrotools as ht\n",
    "import hvplot.pandas"
   ]
  },
  {
   "cell_type": "markdown",
   "metadata": {},
   "source": [
    "## Dask Distributed Cluster"
   ]
  },
  {
   "cell_type": "code",
   "execution_count": 2,
   "metadata": {},
   "outputs": [
    {
     "data": {
      "text/html": [
       "<table style=\"border: 2px solid white;\">\n",
       "<tr>\n",
       "<td style=\"vertical-align: top; border: 0px solid white\">\n",
       "<h3 style=\"text-align: left;\">Client</h3>\n",
       "<ul style=\"text-align: left; list-style: none; margin: 0; padding: 0;\">\n",
       "  <li><b>Scheduler: </b>tcp://127.0.0.1:32907</li>\n",
       "  <li><b>Dashboard: </b><a href='http://127.0.0.1:33303/status' target='_blank'>http://127.0.0.1:33303/status</a></li>\n",
       "</ul>\n",
       "</td>\n",
       "<td style=\"vertical-align: top; border: 0px solid white\">\n",
       "<h3 style=\"text-align: left;\">Cluster</h3>\n",
       "<ul style=\"text-align: left; list-style:none; margin: 0; padding: 0;\">\n",
       "  <li><b>Workers: </b>4</li>\n",
       "  <li><b>Cores: </b>12</li>\n",
       "  <li><b>Memory: </b>33.48 GB</li>\n",
       "</ul>\n",
       "</td>\n",
       "</tr>\n",
       "</table>"
      ],
      "text/plain": [
       "<Client: 'tcp://127.0.0.1:32907' processes=4 threads=12, memory=33.48 GB>"
      ]
     },
     "execution_count": 2,
     "metadata": {},
     "output_type": "execute_result"
    }
   ],
   "source": [
    "# Create cluster\n",
    "from dask_gateway import Gateway\n",
    "from dask.distributed import Client\n",
    "# gateway = Gateway()\n",
    "# cluster = gateway.new_cluster()\n",
    "# cluster.adapt(minimum=2, maximum=100)\n",
    "# # Connect to cluster\n",
    "# client = Client(cluster)\n",
    "client = Client()\n",
    "\n",
    "# Display cluster dashboard URL\n",
    "# cluster\n",
    "\n",
    "client"
   ]
  },
  {
   "cell_type": "markdown",
   "metadata": {},
   "source": [
    "\n",
    "☝️ Link to scheduler dashboard will appear above."
   ]
  },
  {
   "cell_type": "markdown",
   "metadata": {},
   "source": [
    "## Prenons un bassin versant au hasard (polygone)"
   ]
  },
  {
   "cell_type": "code",
   "execution_count": 51,
   "metadata": {},
   "outputs": [],
   "source": [
    "lst_shp = ['s3://watersheds-polygons/MELCC/json/011201/011201.json']\n",
    "client_kwargs={\"endpoint_url\":\"https://s3.us-east-2.wasabisys.com\"}\n",
    "\n",
    "s3 = s3fs.S3FileSystem(client_kwargs=client_kwargs,\n",
    "                               anon=True)  # public read\n",
    "gdf = pd.concat([gpd.GeoDataFrame.from_file(s3.open(file), encoding='latin-1')\n",
    "                 for file in lst_shp])\n",
    "gdf"
   ]
  },
  {
   "cell_type": "code",
   "execution_count": 54,
   "metadata": {},
   "outputs": [
    {
     "data": {},
     "metadata": {},
     "output_type": "display_data"
    },
    {
     "data": {
      "application/vnd.holoviews_exec.v0+json": "",
      "text/html": [
       "<div id='27663'>\n",
       "\n",
       "\n",
       "\n",
       "\n",
       "\n",
       "  <div class=\"bk-root\" id=\"0da53a33-43c5-441d-a324-89fe3ff4820a\" data-root-id=\"27663\"></div>\n",
       "</div>\n",
       "<script type=\"application/javascript\">(function(root) {\n",
       "  function embed_document(root) {\n",
       "    var docs_json = {\"cb513393-0305-4799-8c48-fd5f6dc97225\":{\"roots\":{\"references\":[{\"attributes\":{\"dimension\":\"lon\"},\"id\":\"27708\",\"type\":\"MercatorTicker\"},{\"attributes\":{\"click_policy\":\"mute\",\"items\":[{\"id\":\"27749\"}],\"location\":[0,0]},\"id\":\"27748\",\"type\":\"Legend\"},{\"attributes\":{\"axis\":{\"id\":\"27685\"},\"grid_line_color\":null,\"ticker\":null},\"id\":\"27688\",\"type\":\"Grid\"},{\"attributes\":{\"axis_label\":\"x\",\"bounds\":\"auto\",\"formatter\":{\"id\":\"27709\"},\"major_label_orientation\":\"horizontal\",\"ticker\":{\"id\":\"27708\"}},\"id\":\"27685\",\"type\":\"LinearAxis\"},{\"attributes\":{\"bottom_units\":\"screen\",\"fill_alpha\":0.5,\"fill_color\":\"lightgrey\",\"left_units\":\"screen\",\"level\":\"overlay\",\"line_alpha\":1.0,\"line_color\":\"black\",\"line_dash\":[4,4],\"line_width\":2,\"right_units\":\"screen\",\"top_units\":\"screen\"},\"id\":\"27698\",\"type\":\"BoxAnnotation\"},{\"attributes\":{\"end\":-6679169.336276924,\"min_interval\":5,\"reset_end\":-6679169.336276924,\"reset_start\":-8905559.374781376,\"start\":-8905559.374781376,\"tags\":[[[\"Longitude\",\"Longitude\",null]]]},\"id\":\"27669\",\"type\":\"Range1d\"},{\"attributes\":{},\"id\":\"27681\",\"type\":\"LinearScale\"},{\"attributes\":{\"text\":\"\",\"text_color\":{\"value\":\"black\"},\"text_font_size\":{\"value\":\"12pt\"}},\"id\":\"27677\",\"type\":\"Title\"},{\"attributes\":{\"fill_alpha\":{\"value\":0.1},\"fill_color\":{\"field\":\"Station\",\"transform\":{\"id\":\"27735\"}},\"line_alpha\":{\"value\":0.1},\"xs\":{\"field\":\"xs\"},\"ys\":{\"field\":\"ys\"}},\"id\":\"27740\",\"type\":\"MultiPolygons\"},{\"attributes\":{},\"id\":\"27747\",\"type\":\"UnionRenderers\"},{\"attributes\":{\"data_source\":{\"id\":\"27736\"},\"glyph\":{\"id\":\"27739\"},\"hover_glyph\":null,\"muted_glyph\":{\"id\":\"27741\"},\"nonselection_glyph\":{\"id\":\"27740\"},\"selection_glyph\":null,\"view\":{\"id\":\"27743\"}},\"id\":\"27742\",\"type\":\"GlyphRenderer\"},{\"attributes\":{\"below\":[{\"id\":\"27685\"}],\"center\":[{\"id\":\"27688\"},{\"id\":\"27692\"}],\"frame_height\":400,\"frame_width\":900,\"left\":[{\"id\":\"27689\"}],\"margin\":[5,5,5,5],\"match_aspect\":true,\"min_border_bottom\":10,\"min_border_left\":10,\"min_border_right\":10,\"min_border_top\":10,\"plot_height\":400,\"plot_width\":900,\"renderers\":[{\"id\":\"27731\"},{\"id\":\"27742\"}],\"right\":[{\"id\":\"27748\"}],\"sizing_mode\":\"fixed\",\"title\":{\"id\":\"27677\"},\"toolbar\":{\"id\":\"27699\"},\"x_range\":{\"id\":\"27669\"},\"x_scale\":{\"id\":\"27681\"},\"y_range\":{\"id\":\"27670\"},\"y_scale\":{\"id\":\"27683\"}},\"id\":\"27676\",\"subtype\":\"Figure\",\"type\":\"Plot\"},{\"attributes\":{\"fill_alpha\":{\"value\":0.2},\"fill_color\":{\"field\":\"Station\",\"transform\":{\"id\":\"27735\"}},\"line_alpha\":{\"value\":0.2},\"xs\":{\"field\":\"xs\"},\"ys\":{\"field\":\"ys\"}},\"id\":\"27741\",\"type\":\"MultiPolygons\"},{\"attributes\":{\"attribution\":\"&copy; <a href=\\\"http://downloads.esri.com/ArcGISOnline/docs/tou_summary.pdf\\\">Esri</a>, Earthstar Geographics\",\"url\":\"https://server.arcgisonline.com/ArcGIS/rest/services/World_Imagery/MapServer/tile/{Z}/{Y}/{X}.jpg\"},\"id\":\"27728\",\"type\":\"WMTSTileSource\"},{\"attributes\":{\"active_drag\":\"auto\",\"active_inspect\":\"auto\",\"active_multi\":null,\"active_scroll\":\"auto\",\"active_tap\":\"auto\",\"tools\":[{\"id\":\"27673\"},{\"id\":\"27694\"},{\"id\":\"27695\"},{\"id\":\"27696\"},{\"id\":\"27697\"}]},\"id\":\"27699\",\"type\":\"Toolbar\"},{\"attributes\":{},\"id\":\"27697\",\"type\":\"ResetTool\"},{\"attributes\":{\"label\":{\"field\":\"Station\"},\"renderers\":[{\"id\":\"27742\"}]},\"id\":\"27749\",\"type\":\"LegendItem\"},{\"attributes\":{},\"id\":\"27683\",\"type\":\"LinearScale\"},{\"attributes\":{\"fill_color\":{\"field\":\"Station\",\"transform\":{\"id\":\"27735\"}},\"xs\":{\"field\":\"xs\"},\"ys\":{\"field\":\"ys\"}},\"id\":\"27739\",\"type\":\"MultiPolygons\"},{\"attributes\":{\"callback\":null,\"renderers\":[{\"id\":\"27742\"}],\"tags\":[\"hv_created\"],\"tooltips\":[[\"Station\",\"@{Station}\"],[\"Superficie\",\"@{Superficie}\"]]},\"id\":\"27673\",\"type\":\"HoverTool\"},{\"attributes\":{\"margin\":[5,5,5,5],\"name\":\"HSpacer59010\",\"sizing_mode\":\"stretch_width\"},\"id\":\"27788\",\"type\":\"Spacer\"},{\"attributes\":{\"children\":[{\"id\":\"27664\"},{\"id\":\"27676\"},{\"id\":\"27788\"}],\"margin\":[0,0,0,0],\"name\":\"Row59005\",\"tags\":[\"embedded\"]},\"id\":\"27663\",\"type\":\"Row\"},{\"attributes\":{},\"id\":\"27694\",\"type\":\"PanTool\"},{\"attributes\":{\"source\":{\"id\":\"27736\"}},\"id\":\"27743\",\"type\":\"CDSView\"},{\"attributes\":{\"dimension\":\"lon\"},\"id\":\"27709\",\"type\":\"MercatorTickFormatter\"},{\"attributes\":{\"end\":6660209.872484704,\"min_interval\":5,\"reset_end\":6660209.872484704,\"reset_start\":5670703.188704948,\"start\":5670703.188704948,\"tags\":[[[\"Latitude\",\"Latitude\",null]]]},\"id\":\"27670\",\"type\":\"Range1d\"},{\"attributes\":{},\"id\":\"27737\",\"type\":\"Selection\"},{\"attributes\":{\"data\":{\"Station\":[\"011201\"],\"Superficie\":[\"1134.766897644438\"],\"xs\":[[[{\"__ndarray__\":\"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\",\"dtype\":\"float64\",\"order\":\"little\",\"shape\":[662]}]]],\"ys\":[[[{\"__ndarray__\":\"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\",\"dtype\":\"float64\",\"order\":\"little\",\"shape\":[662]}]]]},\"selected\":{\"id\":\"27737\"},\"selection_policy\":{\"id\":\"27747\"}},\"id\":\"27736\",\"type\":\"ColumnDataSource\"},{\"attributes\":{\"zoom_on_axis\":false},\"id\":\"27695\",\"type\":\"WheelZoomTool\"},{\"attributes\":{\"tile_source\":{\"id\":\"27728\"}},\"id\":\"27731\",\"type\":\"TileRenderer\"},{\"attributes\":{\"axis\":{\"id\":\"27689\"},\"dimension\":1,\"grid_line_color\":null,\"ticker\":null},\"id\":\"27692\",\"type\":\"Grid\"},{\"attributes\":{\"dimension\":\"lat\"},\"id\":\"27711\",\"type\":\"MercatorTickFormatter\"},{\"attributes\":{\"axis_label\":\"y\",\"bounds\":\"auto\",\"formatter\":{\"id\":\"27711\"},\"major_label_orientation\":\"horizontal\",\"ticker\":{\"id\":\"27710\"}},\"id\":\"27689\",\"type\":\"LinearAxis\"},{\"attributes\":{\"match_aspect\":true,\"overlay\":{\"id\":\"27698\"}},\"id\":\"27696\",\"type\":\"BoxZoomTool\"},{\"attributes\":{\"margin\":[5,5,5,5],\"name\":\"HSpacer59009\",\"sizing_mode\":\"stretch_width\"},\"id\":\"27664\",\"type\":\"Spacer\"},{\"attributes\":{\"factors\":[\"011201\"],\"palette\":[\"#b3fef5\"]},\"id\":\"27735\",\"type\":\"CategoricalColorMapper\"},{\"attributes\":{\"dimension\":\"lat\"},\"id\":\"27710\",\"type\":\"MercatorTicker\"}],\"root_ids\":[\"27663\"]},\"title\":\"Bokeh Application\",\"version\":\"2.2.3\"}};\n",
       "    var render_items = [{\"docid\":\"cb513393-0305-4799-8c48-fd5f6dc97225\",\"root_ids\":[\"27663\"],\"roots\":{\"27663\":\"0da53a33-43c5-441d-a324-89fe3ff4820a\"}}];\n",
       "    root.Bokeh.embed.embed_items_notebook(docs_json, render_items);\n",
       "  }\n",
       "  if (root.Bokeh !== undefined && root.Bokeh.Panel !== undefined) {\n",
       "    embed_document(root);\n",
       "  } else {\n",
       "    var attempts = 0;\n",
       "    var timer = setInterval(function(root) {\n",
       "      if (root.Bokeh !== undefined && root.Bokeh.Panel !== undefined) {\n",
       "        clearInterval(timer);\n",
       "        embed_document(root);\n",
       "      } else if (document.readyState == \"complete\") {\n",
       "        attempts++;\n",
       "        if (attempts > 100) {\n",
       "          clearInterval(timer);\n",
       "          console.log(\"Bokeh: ERROR: Unable to run BokehJS code because BokehJS library is missing\");\n",
       "        }\n",
       "      }\n",
       "    }, 10, root)\n",
       "  }\n",
       "})(window);</script>"
      ],
      "text/plain": [
       ":Overlay\n",
       "   .Tiles.I    :Tiles   [x,y]\n",
       "   .Polygons.I :Polygons   [Longitude,Latitude]   (Station,Superficie)"
      ]
     },
     "execution_count": 54,
     "metadata": {
      "application/vnd.holoviews_exec.v0+json": {
       "id": "27663"
      }
     },
     "output_type": "execute_result"
    }
   ],
   "source": [
    "gdf.hvplot(geo=True, \n",
    "           tiles='ESRI',\n",
    "           xlim=(-60,-80),\n",
    "           width=900,\n",
    "           height=400, \n",
    "           color='y',\n",
    "           hover_cols=['Station','Superficie'])"
   ]
  },
  {
   "cell_type": "markdown",
   "metadata": {},
   "source": [
    "## Load data into xarray from a catalog using intake-esm\n"
   ]
  },
  {
   "cell_type": "code",
   "execution_count": 6,
   "metadata": {},
   "outputs": [],
   "source": [
    "import intake\n",
    "cat_url = 'https://raw.githubusercontent.com/hydrologie/datasets/main/intake-catalogs/atmosphere.yml'\n",
    "cat = intake.open_catalog(cat_url)\n",
    "cat.gui"
   ]
  },
  {
   "cell_type": "code",
   "execution_count": null,
   "metadata": {},
   "outputs": [],
   "source": [
    "ds = cat.era5_hourly_reanalysis_land.to_dask()\n",
    "ds"
   ]
  },
  {
   "cell_type": "code",
   "execution_count": 59,
   "metadata": {},
   "outputs": [
    {
     "name": "stdout",
     "output_type": "stream",
     "text": [
      "011201\n",
      "CPU times: user 917 ms, sys: 86.1 ms, total: 1 s\n",
      "Wall time: 7.5 s\n"
     ]
    }
   ],
   "source": [
    "%%time\n",
    "\n",
    "df_era5 = ht.clip_polygon_to_dataframe(dataset=ds,\n",
    "                                       geodataframe=gdf,\n",
    "                                       geodf_index_column='Station',\n",
    "                                       variable='sd',  \n",
    "                                       aggregation='mean',\n",
    "                                       resample_time='1D', # originalement au pas de temps horaire\n",
    "                                       from_tz='UTC',\n",
    "                                       to_tz='UTC',\n",
    "                                       latlng_names=['latitude',\n",
    "                                                     'longitude']\n",
    "                                       )\n",
    "df_era5 = df_era5*1000"
   ]
  },
  {
   "cell_type": "code",
   "execution_count": 64,
   "metadata": {},
   "outputs": [
    {
     "data": {},
     "metadata": {},
     "output_type": "display_data"
    },
    {
     "data": {},
     "metadata": {},
     "output_type": "display_data"
    },
    {
     "data": {
      "application/vnd.holoviews_exec.v0+json": "",
      "text/html": [
       "<div id='32062'>\n",
       "\n",
       "\n",
       "\n",
       "\n",
       "\n",
       "  <div class=\"bk-root\" id=\"fb39b4d5-df04-4b65-9c83-648e2fdc9a8f\" data-root-id=\"32062\"></div>\n",
       "</div>\n",
       "<script type=\"application/javascript\">(function(root) {\n",
       "  function embed_document(root) {\n",
       "    var docs_json = {\"8b509338-d9ab-41bf-b169-a4990b1ef03b\":{\"roots\":{\"references\":[{\"attributes\":{\"axis_label\":\"EEN (mm)\",\"bounds\":\"auto\",\"formatter\":{\"id\":\"32113\"},\"major_label_orientation\":\"horizontal\",\"ticker\":{\"id\":\"32087\"}},\"id\":\"32086\",\"type\":\"LinearAxis\"},{\"attributes\":{\"below\":[{\"id\":\"32082\"}],\"center\":[{\"id\":\"32085\"},{\"id\":\"32089\"}],\"left\":[{\"id\":\"32086\"}],\"margin\":[5,5,5,5],\"min_border_bottom\":10,\"min_border_left\":10,\"min_border_right\":10,\"min_border_top\":10,\"plot_height\":300,\"plot_width\":900,\"renderers\":[{\"id\":\"32109\"}],\"sizing_mode\":\"fixed\",\"title\":{\"id\":\"32074\"},\"toolbar\":{\"id\":\"32096\"},\"x_range\":{\"id\":\"32070\"},\"x_scale\":{\"id\":\"32078\"},\"y_range\":{\"id\":\"32071\"},\"y_scale\":{\"id\":\"32080\"}},\"id\":\"32073\",\"subtype\":\"Figure\",\"type\":\"Plot\"},{\"attributes\":{},\"id\":\"32091\",\"type\":\"PanTool\"},{\"attributes\":{\"args\":{\"bidirectional\":false,\"properties\":{},\"source\":{\"id\":\"32068\"},\"target\":{\"id\":\"32067\"}},\"code\":\"try { \\n    var labels = ['year: <b>1981</b>', 'year: <b>1982</b>', 'year: <b>1983</b>', 'year: <b>1984</b>', 'year: <b>1985</b>', 'year: <b>1986</b>', 'year: <b>1987</b>', 'year: <b>1988</b>', 'year: <b>1989</b>', 'year: <b>1990</b>', 'year: <b>1991</b>', 'year: <b>1992</b>', 'year: <b>1993</b>', 'year: <b>1994</b>', 'year: <b>1995</b>', 'year: <b>1996</b>', 'year: <b>1997</b>', 'year: <b>1998</b>', 'year: <b>1999</b>', 'year: <b>2000</b>', 'year: <b>2001</b>', 'year: <b>2002</b>', 'year: <b>2003</b>', 'year: <b>2004</b>', 'year: <b>2005</b>', 'year: <b>2006</b>', 'year: <b>2007</b>', 'year: <b>2008</b>', 'year: <b>2009</b>', 'year: <b>2010</b>', 'year: <b>2011</b>', 'year: <b>2012</b>', 'year: <b>2013</b>', 'year: <b>2014</b>', 'year: <b>2015</b>', 'year: <b>2016</b>', 'year: <b>2017</b>', 'year: <b>2018</b>', 'year: <b>2019</b>', 'year: <b>2020</b>']\\n    target.text = labels[source.value]\\n     } catch(err) { console.log(err) }\",\"tags\":[140573118636960]},\"id\":\"32183\",\"type\":\"CustomJS\"},{\"attributes\":{\"text\":\"year: 1981\",\"text_color\":{\"value\":\"black\"},\"text_font_size\":{\"value\":\"12pt\"}},\"id\":\"32074\",\"type\":\"Title\"},{\"attributes\":{},\"id\":\"32080\",\"type\":\"LinearScale\"},{\"attributes\":{\"axis_label\":\"time\",\"bounds\":\"auto\",\"formatter\":{\"id\":\"32111\"},\"major_label_orientation\":\"horizontal\",\"ticker\":{\"id\":\"32083\"}},\"id\":\"32082\",\"type\":\"DatetimeAxis\"},{\"attributes\":{\"axis\":{\"id\":\"32086\"},\"dimension\":1,\"ticker\":{\"id\":\"32087\"}},\"id\":\"32089\",\"type\":\"Grid\"},{\"attributes\":{\"axis\":{\"id\":\"32082\"},\"ticker\":{\"id\":\"32083\"}},\"id\":\"32085\",\"type\":\"Grid\"},{\"attributes\":{\"mantissas\":[1,2,5],\"max_interval\":500.0,\"num_minor_ticks\":0},\"id\":\"32128\",\"type\":\"AdaptiveTicker\"},{\"attributes\":{},\"id\":\"32078\",\"type\":\"LinearScale\"},{\"attributes\":{\"end\":500,\"reset_end\":500,\"reset_start\":0,\"tags\":[[[\"011201\",\"011201\",null]]]},\"id\":\"32071\",\"type\":\"Range1d\"},{\"attributes\":{\"base\":60,\"mantissas\":[1,2,5,10,15,20,30],\"max_interval\":1800000.0,\"min_interval\":1000.0,\"num_minor_ticks\":0},\"id\":\"32129\",\"type\":\"AdaptiveTicker\"},{\"attributes\":{\"client_comm_id\":\"d622efc16c7f4fe28405d08f583ddfb7\",\"comm_id\":\"925a7dccfddf4272beddddf8b7ce0902\",\"plot_id\":\"32062\"},\"id\":\"32224\",\"type\":\"panel.models.comm_manager.CommManager\"},{\"attributes\":{\"children\":[{\"id\":\"32063\"},{\"id\":\"32073\"}],\"margin\":[0,0,0,0],\"name\":\"Column82034\"},\"id\":\"32062\",\"type\":\"Column\"},{\"attributes\":{\"days\":[1,2,3,4,5,6,7,8,9,10,11,12,13,14,15,16,17,18,19,20,21,22,23,24,25,26,27,28,29,30,31]},\"id\":\"32131\",\"type\":\"DaysTicker\"},{\"attributes\":{},\"id\":\"32087\",\"type\":\"BasicTicker\"},{\"attributes\":{\"base\":24,\"mantissas\":[1,2,4,6,8,12],\"max_interval\":43200000.0,\"min_interval\":3600000.0,\"num_minor_ticks\":0},\"id\":\"32130\",\"type\":\"AdaptiveTicker\"},{\"attributes\":{},\"id\":\"32092\",\"type\":\"WheelZoomTool\"},{\"attributes\":{\"months\":[0,1,2,3,4,5,6,7,8,9,10,11]},\"id\":\"32135\",\"type\":\"MonthsTicker\"},{\"attributes\":{},\"id\":\"32090\",\"type\":\"SaveTool\"},{\"attributes\":{\"months\":[0,2,4,6,8,10]},\"id\":\"32136\",\"type\":\"MonthsTicker\"},{\"attributes\":{},\"id\":\"32111\",\"type\":\"DatetimeTickFormatter\"},{\"attributes\":{\"days\":[1,4,7,10,13,16,19,22,25,28]},\"id\":\"32132\",\"type\":\"DaysTicker\"},{\"attributes\":{\"overlay\":{\"id\":\"32095\"}},\"id\":\"32093\",\"type\":\"BoxZoomTool\"},{\"attributes\":{\"days\":[1,15]},\"id\":\"32134\",\"type\":\"DaysTicker\"},{\"attributes\":{},\"id\":\"32094\",\"type\":\"ResetTool\"},{\"attributes\":{\"months\":[0,6]},\"id\":\"32138\",\"type\":\"MonthsTicker\"},{\"attributes\":{\"active_drag\":\"auto\",\"active_inspect\":\"auto\",\"active_multi\":null,\"active_scroll\":\"auto\",\"active_tap\":\"auto\",\"tools\":[{\"id\":\"32072\"},{\"id\":\"32090\"},{\"id\":\"32091\"},{\"id\":\"32092\"},{\"id\":\"32093\"},{\"id\":\"32094\"}]},\"id\":\"32096\",\"type\":\"Toolbar\"},{\"attributes\":{\"days\":[1,8,15,22]},\"id\":\"32133\",\"type\":\"DaysTicker\"},{\"attributes\":{\"line_color\":\"#1f77b3\",\"line_width\":2,\"x\":{\"field\":\"time\"},\"y\":{\"field\":\"011201\"}},\"id\":\"32106\",\"type\":\"Line\"},{\"attributes\":{},\"id\":\"32139\",\"type\":\"YearsTicker\"},{\"attributes\":{\"months\":[0,4,8]},\"id\":\"32137\",\"type\":\"MonthsTicker\"},{\"attributes\":{\"children\":[{\"id\":\"32064\"},{\"id\":\"32065\"},{\"id\":\"32069\"}],\"margin\":[0,0,0,0],\"name\":\"Row82033\"},\"id\":\"32063\",\"type\":\"Row\"},{\"attributes\":{\"children\":[{\"id\":\"32066\"}],\"css_classes\":[\"panel-widget-box\"],\"margin\":[5,5,5,5],\"name\":\"WidgetBox82019\"},\"id\":\"32065\",\"type\":\"Column\"},{\"attributes\":{\"source\":{\"id\":\"32103\"}},\"id\":\"32110\",\"type\":\"CDSView\"},{\"attributes\":{\"data_source\":{\"id\":\"32103\"},\"glyph\":{\"id\":\"32106\"},\"hover_glyph\":null,\"muted_glyph\":{\"id\":\"32108\"},\"nonselection_glyph\":{\"id\":\"32107\"},\"selection_glyph\":null,\"view\":{\"id\":\"32110\"}},\"id\":\"32109\",\"type\":\"GlyphRenderer\"},{\"attributes\":{\"line_alpha\":0.1,\"line_color\":\"#1f77b3\",\"line_width\":2,\"x\":{\"field\":\"time\"},\"y\":{\"field\":\"011201\"}},\"id\":\"32107\",\"type\":\"Line\"},{\"attributes\":{},\"id\":\"32104\",\"type\":\"Selection\"},{\"attributes\":{\"margin\":[5,5,5,5],\"name\":\"HSpacer82032\",\"sizing_mode\":\"stretch_width\"},\"id\":\"32069\",\"type\":\"Spacer\"},{\"attributes\":{},\"id\":\"32142\",\"type\":\"UnionRenderers\"},{\"attributes\":{\"end\":378604800000.0,\"reset_end\":378604800000.0,\"reset_start\":347155200000.0,\"start\":347155200000.0,\"tags\":[[[\"time\",\"time\",null]]]},\"id\":\"32070\",\"type\":\"Range1d\"},{\"attributes\":{\"line_alpha\":0.2,\"line_color\":\"#1f77b3\",\"line_width\":2,\"x\":{\"field\":\"time\"},\"y\":{\"field\":\"011201\"}},\"id\":\"32108\",\"type\":\"Line\"},{\"attributes\":{\"children\":[{\"id\":\"32067\"},{\"id\":\"32068\"}],\"margin\":[0,0,0,0],\"min_width\":290,\"name\":\"Column82028\",\"width\":290},\"id\":\"32066\",\"type\":\"Column\"},{\"attributes\":{\"callback\":null,\"formatters\":{\"@{time}\":\"datetime\"},\"renderers\":[{\"id\":\"32109\"}],\"tags\":[\"hv_created\"],\"tooltips\":[[\"time\",\"@{time}\"],[\"011201\",\"@{A_011201}\"]]},\"id\":\"32072\",\"type\":\"HoverTool\"},{\"attributes\":{\"margin\":[20,0,0,20],\"name\":\"\",\"style\":{\"white-space\":\"nowrap\"},\"text\":\"year: <b>1981</b>\",\"width\":250},\"id\":\"32067\",\"type\":\"Div\"},{\"attributes\":{\"bottom_units\":\"screen\",\"fill_alpha\":0.5,\"fill_color\":\"lightgrey\",\"left_units\":\"screen\",\"level\":\"overlay\",\"line_alpha\":1.0,\"line_color\":\"black\",\"line_dash\":[4,4],\"line_width\":2,\"right_units\":\"screen\",\"top_units\":\"screen\"},\"id\":\"32095\",\"type\":\"BoxAnnotation\"},{\"attributes\":{\"num_minor_ticks\":5,\"tickers\":[{\"id\":\"32128\"},{\"id\":\"32129\"},{\"id\":\"32130\"},{\"id\":\"32131\"},{\"id\":\"32132\"},{\"id\":\"32133\"},{\"id\":\"32134\"},{\"id\":\"32135\"},{\"id\":\"32136\"},{\"id\":\"32137\"},{\"id\":\"32138\"},{\"id\":\"32139\"}]},\"id\":\"32083\",\"type\":\"DatetimeTicker\"},{\"attributes\":{\"end\":39,\"format\":\"0[.]00\",\"js_property_callbacks\":{\"change:value\":[{\"id\":\"32183\"}]},\"margin\":[0,20,20,20],\"min_width\":250,\"show_value\":false,\"start\":0,\"tooltips\":false,\"value\":0,\"value_throttled\":0,\"width\":250},\"id\":\"32068\",\"type\":\"Slider\"},{\"attributes\":{\"margin\":[5,5,5,5],\"name\":\"HSpacer82031\",\"sizing_mode\":\"stretch_width\"},\"id\":\"32064\",\"type\":\"Spacer\"},{\"attributes\":{},\"id\":\"32113\",\"type\":\"BasicTickFormatter\"},{\"attributes\":{\"data\":{\"011201\":{\"__ndarray__\":\"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\",\"dtype\":\"float64\",\"order\":\"little\",\"shape\":[365]},\"A_011201\":{\"__ndarray__\":\"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\",\"dtype\":\"float64\",\"order\":\"little\",\"shape\":[365]},\"time\":{\"__ndarray__\":\"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\",\"dtype\":\"float64\",\"order\":\"little\",\"shape\":[365]}},\"selected\":{\"id\":\"32104\"},\"selection_policy\":{\"id\":\"32142\"}},\"id\":\"32103\",\"type\":\"ColumnDataSource\"}],\"root_ids\":[\"32062\",\"32224\"]},\"title\":\"Bokeh Application\",\"version\":\"2.2.3\"}};\n",
       "    var render_items = [{\"docid\":\"8b509338-d9ab-41bf-b169-a4990b1ef03b\",\"root_ids\":[\"32062\"],\"roots\":{\"32062\":\"fb39b4d5-df04-4b65-9c83-648e2fdc9a8f\"}}];\n",
       "    root.Bokeh.embed.embed_items_notebook(docs_json, render_items);\n",
       "  }\n",
       "  if (root.Bokeh !== undefined && root.Bokeh.Panel !== undefined) {\n",
       "    embed_document(root);\n",
       "  } else {\n",
       "    var attempts = 0;\n",
       "    var timer = setInterval(function(root) {\n",
       "      if (root.Bokeh !== undefined && root.Bokeh.Panel !== undefined) {\n",
       "        clearInterval(timer);\n",
       "        embed_document(root);\n",
       "      } else if (document.readyState == \"complete\") {\n",
       "        attempts++;\n",
       "        if (attempts > 100) {\n",
       "          clearInterval(timer);\n",
       "          console.log(\"Bokeh: ERROR: Unable to run BokehJS code because BokehJS library is missing\");\n",
       "        }\n",
       "      }\n",
       "    }, 10, root)\n",
       "  }\n",
       "})(window);</script>"
      ],
      "text/plain": [
       "Column\n",
       "    [0] Row\n",
       "        [0] HSpacer()\n",
       "        [1] WidgetBox\n",
       "            [0] DiscreteSlider(formatter='%d', margin=(20, 20, 20, 20), name='year', options=OrderedDict([('1981', ...]), value=1981, value_throttled=1981, width=250)\n",
       "        [2] HSpacer()\n",
       "    [1] HoloViews(DynamicMap, widget_location='top')"
      ]
     },
     "execution_count": 64,
     "metadata": {
      "application/vnd.holoviews_exec.v0+json": {
       "id": "32062"
      }
     },
     "output_type": "execute_result"
    }
   ],
   "source": [
    "df_era5['year'] = df_era5.index.year\n",
    "df_era5.hvplot(x='time',\n",
    "               width=900,\n",
    "               grid=True, \n",
    "               ylim=(0,500),\n",
    "               ylabel='EEN (mm)')"
   ]
  }
 ],
 "metadata": {
  "kernelspec": {
   "display_name": "notebook",
   "language": "python",
   "name": "notebook"
  },
  "language_info": {
   "codemirror_mode": {
    "name": "ipython",
    "version": 3
   },
   "file_extension": ".py",
   "mimetype": "text/x-python",
   "name": "python",
   "nbconvert_exporter": "python",
   "pygments_lexer": "ipython3",
   "version": "3.8.6"
  },
  "toc": {
   "base_numbering": 1,
   "nav_menu": {},
   "number_sections": true,
   "sideBar": true,
   "skip_h1_title": false,
   "title_cell": "Table of Contents",
   "title_sidebar": "Contents",
   "toc_cell": true,
   "toc_position": {},
   "toc_section_display": true,
   "toc_window_display": true
  }
 },
 "nbformat": 4,
 "nbformat_minor": 4
}
